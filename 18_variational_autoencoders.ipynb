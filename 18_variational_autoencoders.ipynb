{
 "cells": [
  {
   "cell_type": "markdown",
   "metadata": {},
   "source": [
    "We've seen how we can use a convolutional neural network to do some interesting things beyond classification.  In fact, there are many such examples.  For example, neural networks can be used to do both de-noising as well as in-painting.  The former is performed by training a network to map from a noise-corrupted version of a training data set to the non-corrupted version.  The latter is similar: remove sets of pixels from the input data set, and train a network to return the original picture. \n",
    "\n",
    "Along with the dequantization method we just saw, these are all generalizations of something called an autoencoder, which is simply a function (neural network, usually) which is trained to return the input as output.  Of course, it is trivial to create a neural network that can do this perfectly.  For example, if we have an input layer, followed by a hidden layer with linear activations, and the same number of nodes as the input, then we can just get the identity function.  \n",
    "\n",
    "However, a much more interesting case comes when we impose a bottleneck: a hidden layer with substantially fewer nodes than the input.  This forces the neural network to come up with a compressed representation of the data.  For example, we can imagine taking the MNIST dataset, and generating a neural network with one input layer, three hidden layers, and one output layer.  Then, we'll set the number of nodes in that middle hidden layer to two. This will force the model to come up with a distillation of the 784-dimensional dataset into a 2-D representation, and will also force the training of neural network weights to re-constitute that encoding back into the full 784D representation.  Note that we've seen this kind of thing before in the form of PCA.  However, that relied on a linear transformation, namely the orthogonal rotation of the coordinate system.  A neural network is much more powerful because it can perform non-linear transformations.  Let's see what this can do for us.\n",
    "\n",
    "First we'll import Keras along with the MNIST dataset."
   ]
  },
  {
   "cell_type": "code",
   "execution_count": 1,
   "metadata": {},
   "outputs": [
    {
     "name": "stderr",
     "output_type": "stream",
     "text": [
      "/home/brinkerhoff/anaconda3/lib/python3.6/site-packages/h5py/__init__.py:36: FutureWarning: Conversion of the second argument of issubdtype from `float` to `np.floating` is deprecated. In future, it will be treated as `np.float64 == np.dtype(float).type`.\n",
      "  from ._conv import register_converters as _register_converters\n",
      "Using TensorFlow backend.\n"
     ]
    }
   ],
   "source": [
    "import keras\n",
    "import keras.models as km\n",
    "import keras.layers as kl\n",
    "import keras.losses as kloss\n",
    "import keras.metrics as kmet\n",
    "from keras import backend as K\n",
    "from keras.datasets import mnist\n",
    "import numpy as np\n",
    "import matplotlib.pyplot as plt\n",
    "\n",
    "input_shape = (28**2,)\n",
    "\n",
    "(x_train, y_train), (x_test, y_test) = mnist.load_data()\n",
    "x_train = x_train/255\n",
    "x_test = x_test/255\n",
    "x_train = x_train.reshape((len(x_train),*input_shape))\n",
    "x_test = x_test.reshape((len(x_test),*input_shape))"
   ]
  },
  {
   "cell_type": "markdown",
   "metadata": {},
   "source": [
    "Next, we can specify some parameters of the network architecture.  For the so-called latent dimension (the bottleneck), we'll use only two nodes, meaning that any representation of a handwritten digit will be a vector in $\\mathbb{R}^2$.  For the hidden layers between, we'll use 128 nodes."
   ]
  },
  {
   "cell_type": "code",
   "execution_count": 2,
   "metadata": {},
   "outputs": [],
   "source": [
    "latent_dim = 2\n",
    "intermediate_dim = 128"
   ]
  },
  {
   "cell_type": "markdown",
   "metadata": {},
   "source": [
    "Next we'll specify our network architecture.  Because we'll want to re-use the weights of various layers in several models (namely functions from the input to the latent variables, from latent variables to outputs, and directly from input to output), I've structured this in such a way that we instantiate all the layers, then arrange them into the needed networks."
   ]
  },
  {
   "cell_type": "code",
   "execution_count": 3,
   "metadata": {},
   "outputs": [
    {
     "name": "stdout",
     "output_type": "stream",
     "text": [
      "_________________________________________________________________\n",
      "Layer (type)                 Output Shape              Param #   \n",
      "=================================================================\n",
      "input_1 (InputLayer)         (None, 784)               0         \n",
      "_________________________________________________________________\n",
      "dense_1 (Dense)              (None, 128)               100480    \n",
      "_________________________________________________________________\n",
      "dense_2 (Dense)              (None, 2)                 258       \n",
      "_________________________________________________________________\n",
      "dense_3 (Dense)              (None, 128)               384       \n",
      "_________________________________________________________________\n",
      "dense_4 (Dense)              (None, 784)               101136    \n",
      "=================================================================\n",
      "Total params: 202,258\n",
      "Trainable params: 202,258\n",
      "Non-trainable params: 0\n",
      "_________________________________________________________________\n",
      "Train on 60000 samples, validate on 10000 samples\n",
      "Epoch 1/24\n",
      "60000/60000 [==============================] - 4s 66us/step - loss: 0.0452 - val_loss: 0.0307\n",
      "Epoch 2/24\n",
      "60000/60000 [==============================] - 2s 38us/step - loss: 0.0290 - val_loss: 0.0277\n",
      "Epoch 3/24\n",
      "60000/60000 [==============================] - 2s 38us/step - loss: 0.0270 - val_loss: 0.0262\n",
      "Epoch 4/24\n",
      "60000/60000 [==============================] - 2s 39us/step - loss: 0.0258 - val_loss: 0.0253\n",
      "Epoch 5/24\n",
      "60000/60000 [==============================] - 2s 38us/step - loss: 0.0251 - val_loss: 0.0250\n",
      "Epoch 6/24\n",
      "60000/60000 [==============================] - 3s 53us/step - loss: 0.0247 - val_loss: 0.0244\n",
      "Epoch 7/24\n",
      "60000/60000 [==============================] - 3s 43us/step - loss: 0.0243 - val_loss: 0.0241\n",
      "Epoch 8/24\n",
      "60000/60000 [==============================] - 2s 38us/step - loss: 0.0239 - val_loss: 0.0237\n",
      "Epoch 9/24\n",
      "60000/60000 [==============================] - 2s 37us/step - loss: 0.0236 - val_loss: 0.0234\n",
      "Epoch 10/24\n",
      "60000/60000 [==============================] - 2s 39us/step - loss: 0.0234 - val_loss: 0.0232\n",
      "Epoch 11/24\n",
      "60000/60000 [==============================] - 2s 42us/step - loss: 0.0232 - val_loss: 0.0230\n",
      "Epoch 12/24\n",
      "60000/60000 [==============================] - 2s 37us/step - loss: 0.0230 - val_loss: 0.0228\n",
      "Epoch 13/24\n",
      "60000/60000 [==============================] - 2s 37us/step - loss: 0.0229 - val_loss: 0.0227\n",
      "Epoch 14/24\n",
      "60000/60000 [==============================] - 2s 37us/step - loss: 0.0227 - val_loss: 0.0225\n",
      "Epoch 15/24\n",
      "60000/60000 [==============================] - 2s 37us/step - loss: 0.0226 - val_loss: 0.0225\n",
      "Epoch 16/24\n",
      "60000/60000 [==============================] - 2s 40us/step - loss: 0.0225 - val_loss: 0.0224\n",
      "Epoch 17/24\n",
      "60000/60000 [==============================] - 2s 38us/step - loss: 0.0224 - val_loss: 0.0223\n",
      "Epoch 18/24\n",
      "60000/60000 [==============================] - 2s 37us/step - loss: 0.0223 - val_loss: 0.0222\n",
      "Epoch 19/24\n",
      "60000/60000 [==============================] - 2s 37us/step - loss: 0.0222 - val_loss: 0.0221\n",
      "Epoch 20/24\n",
      "60000/60000 [==============================] - 2s 36us/step - loss: 0.0221 - val_loss: 0.0220\n",
      "Epoch 21/24\n",
      "60000/60000 [==============================] - 2s 37us/step - loss: 0.0221 - val_loss: 0.0220\n",
      "Epoch 22/24\n",
      "60000/60000 [==============================] - 2s 36us/step - loss: 0.0220 - val_loss: 0.0219\n",
      "Epoch 23/24\n",
      "60000/60000 [==============================] - 2s 36us/step - loss: 0.0220 - val_loss: 0.0219\n",
      "Epoch 24/24\n",
      "60000/60000 [==============================] - 2s 37us/step - loss: 0.0219 - val_loss: 0.0218\n"
     ]
    }
   ],
   "source": [
    "x = kl.Input(shape=input_shape)          # A placeholder for the input\n",
    "z_in = kl.Input(shape=(latent_dim,))     # A placeholder for inputting latent variables\n",
    "\n",
    "# Return a set of encoder layers\n",
    "def get_encoder_layers():\n",
    "    dense_1 = kl.Dense(intermediate_dim,activation='relu',kernel_regularizer=keras.regularizers.l2(0.0001))\n",
    "    latent_layer = kl.Dense(latent_dim,activation='linear')\n",
    "\n",
    "    return [dense_1,latent_layer]\n",
    "\n",
    "# Take the encoder layers and the input layer, and return the encoder portion of the autoencoder\n",
    "def generate_encoder(x,encoder_layers):\n",
    "    dense_1,latent_layer = encoder_layers\n",
    "    d1 = dense_1(x)\n",
    "    z = latent_layer(d1)\n",
    "    return z\n",
    "\n",
    "# Return a set of decoder layers\n",
    "def get_decoder_layers():\n",
    "    dense_2 = kl.Dense(intermediate_dim,activation='relu')\n",
    "    reconstructed = kl.Dense(input_shape[0],activation='sigmoid')\n",
    "    return [dense_2,reconstructed]\n",
    "\n",
    "# Take the decoder layers and the latent values, and return the decoder\n",
    "def generate_decoder(z,decoder_layers):\n",
    "    dense_2,reconstructed = decoder_layers\n",
    "    d2 = dense_2(z)\n",
    "    x_rec = reconstructed(d2)\n",
    "    return x_rec\n",
    "\n",
    "# Instantiate the encoder layers\n",
    "encoder_layers = get_encoder_layers()\n",
    "\n",
    "# Define the mapping from input x to latent variable z\n",
    "z = generate_encoder(x,encoder_layers)\n",
    "\n",
    "# Wrap this mapping into a keras model\n",
    "encoder = km.Model(x,z)\n",
    "\n",
    "\n",
    "# Instantiate the decoder layers\n",
    "decoder_layers = get_decoder_layers()\n",
    "\n",
    "# Define the mapping from z (defined above) to x \n",
    "x_reconstructed = generate_decoder(z,decoder_layers)\n",
    "# Define the mapping from some other z (user specified) to x\n",
    "x_decoded = generate_decoder(z_in,decoder_layers)\n",
    "\n",
    "# Generate a decoder model\n",
    "decoder = km.Model(z_in,x_decoded)\n",
    "\n",
    "# Generate the autoencoder model\n",
    "vae = km.Model(x,x_reconstructed)\n",
    "\n",
    "# Compile the model with a loss function\n",
    "vae.compile(optimizer=keras.optimizers.adam(),loss=keras.losses.mean_squared_logarithmic_error)\n",
    "vae.summary()\n",
    "\n",
    "# Train\n",
    "batch_size = 256\n",
    "epochs=24\n",
    "history = vae.fit(x_train, x_train,\n",
    "          batch_size=batch_size,\n",
    "          epochs=epochs,\n",
    "          verbose=1,\n",
    "          validation_data=(x_test, x_test))\n"
   ]
  },
  {
   "cell_type": "markdown",
   "metadata": {},
   "source": [
    "This takes a minute to train, but once its done, we can look at the filters that we produce, just like we did with PCA (and with classifying MLPs)"
   ]
  },
  {
   "cell_type": "code",
   "execution_count": 6,
   "metadata": {},
   "outputs": [
    {
     "data": {
      "image/png": "[encoded data removed]",
      "text/plain": [
       "<Figure size 432x288 with 5 Axes>"
      ]
     },
     "metadata": {},
     "output_type": "display_data"
    },
    {
     "data": {
      "image/png": "[encoded data removed]",
      "text/plain": [
       "<Figure size 432x288 with 5 Axes>"
      ]
     },
     "metadata": {},
     "output_type": "display_data"
    }
   ],
   "source": [
    "# Encoder weights (Good features to extract)\n",
    "fig,axs = plt.subplots(nrows=1,ncols=5)\n",
    "for i,ax in enumerate(axs):    \n",
    "    i = np.random.randint(intermediate_dim)\n",
    "    ax.imshow(encoder.get_weights()[0][:,i].reshape((28,28)),vmin=-0.005,vmax=0.005)\n",
    "    \n",
    "# Decoder weights (Good features to sum in order to reconstruct)\n",
    "fig,axs = plt.subplots(nrows=1,ncols=5)\n",
    "for i,ax in enumerate(axs):\n",
    "    \n",
    "    i = np.random.randint(intermediate_dim)\n",
    "    \n",
    "    ax.imshow(decoder.get_weights()[-2][i,:].reshape((28,28)),vmin=-0.1,vmax=0.1)\n",
    "    \n",
    "plt.show()"
   ]
  },
  {
   "cell_type": "markdown",
   "metadata": {},
   "source": [
    "We can also look at how effective our autoencoder is: how well do we map back to the inputs."
   ]
  },
  {
   "cell_type": "code",
   "execution_count": 10,
   "metadata": {},
   "outputs": [
    {
     "data": {
      "image/png": "[encoded data removed]",
      "text/plain": [
       "<Figure size 432x288 with 6 Axes>"
      ]
     },
     "metadata": {},
     "output_type": "display_data"
    }
   ],
   "source": [
    "x_pred = vae.predict(x_test)\n",
    "\n",
    "fig,axs = plt.subplots(nrows=3,ncols=2)\n",
    "for j in range(3):\n",
    "    ax = axs[j]\n",
    "    i = np.random.randint(100)\n",
    "\n",
    "    ax[0].imshow(x_test[i].reshape((28,28)))\n",
    "    ax[1].imshow(x_pred[i].reshape((28,28)))\n",
    "plt.show()"
   ]
  },
  {
   "cell_type": "markdown",
   "metadata": {},
   "source": [
    "It does just OK.  But we are trying to distill all the variability in the MNIST dataset down into two numbers.  Let's look at those two numbers:"
   ]
  },
  {
   "cell_type": "code",
   "execution_count": 11,
   "metadata": {},
   "outputs": [
    {
     "data": {
      "image/png": "[encoded data removed]",
      "text/plain": [
       "<Figure size 432x288 with 2 Axes>"
      ]
     },
     "metadata": {},
     "output_type": "display_data"
    }
   ],
   "source": [
    "z_intermediate = encoder.predict(x_test)\n",
    "plt.scatter(z_intermediate[:,0],z_intermediate[:,1],c=y_test)\n",
    "plt.colorbar()\n",
    "plt.xlabel('z_0')\n",
    "plt.ylabel('z_1')\n",
    "plt.show()"
   ]
  },
  {
   "cell_type": "markdown",
   "metadata": {},
   "source": [
    "The dots are colored by digit.  There are clear distinctions between groups, but still quite a bit of overlap.  Nonetheless, we could make a pretty good classifier out of this (in fact this is what we're doing with an MLP).  \n",
    "\n",
    "We can also pick values of our latent variables, and generate a new digit using it, which is pretty neat."
   ]
  },
  {
   "cell_type": "code",
   "execution_count": 18,
   "metadata": {},
   "outputs": [
    {
     "data": {
      "image/png": "[encoded data removed]",
      "text/plain": [
       "<Figure size 432x288 with 1 Axes>"
      ]
     },
     "metadata": {},
     "output_type": "display_data"
    }
   ],
   "source": [
    "z = np.array([[10,-10]])\n",
    "x_pred = decoder.predict(z).reshape((28,28))\n",
    "plt.imshow(x_pred)\n",
    "plt.show()\n"
   ]
  },
  {
   "cell_type": "markdown",
   "metadata": {},
   "source": [
    "Unfortunately, it's easy to get off the map.  If we wanted to randomly generate handwritten digits by sampling $z$, we'd have a hard time, because the distribution of z values doesn't follow anything specific.  This problem becomes especially acute in high latent-dimension (if the plot were 16D); there would be a very large separation between each of the classes, thus although sevens and ones should be \"close\" to each other, in high latent space, they tend not to be.\n",
    "\n",
    "How can we deal with this problem?  As it turns out, we can turn out autoencoder into something called a variational auto-encoder.  What we will do is that we will model our latent variable values as being normally distributed.  In essence, what we will try to do is to collapse our latent space into the little ball around the origin that defines a multi-dimensional Gaussian.  This takes a little bit of adaptation in our neural network. \n",
    "\n",
    "Our import statements as before:"
   ]
  },
  {
   "cell_type": "code",
   "execution_count": 19,
   "metadata": {},
   "outputs": [],
   "source": [
    "import keras\n",
    "import keras.models as km\n",
    "import keras.layers as kl\n",
    "import keras.losses as kloss\n",
    "import keras.metrics as kmet\n",
    "from keras import backend as K\n",
    "from keras.datasets import mnist\n",
    "import numpy as np\n",
    "\n",
    "input_shape = (28**2,)\n",
    "latent_dim = 2\n",
    "intermediate_dim = 512\n",
    "\n",
    "(x_train, y_train), (x_test, y_test) = mnist.load_data()\n",
    "x_train = x_train/255\n",
    "x_test = x_test/255\n",
    "x_train = x_train.reshape((len(x_train),*input_shape))\n",
    "x_test = x_test.reshape((len(x_test),*input_shape))"
   ]
  },
  {
   "cell_type": "markdown",
   "metadata": {},
   "source": [
    "Now, we'll define a special layer called *sampling*.  What this will do is take the output of our encoder and treat this output as the mean and the variance of a normal distribution, from which it will sample to produce our prediction of the latent variable $z$.  Thus our model has become stochastic!"
   ]
  },
  {
   "cell_type": "code",
   "execution_count": null,
   "metadata": {},
   "outputs": [],
   "source": [
    "# sampling layer from latent distribution\n",
    "def sampling(args):\n",
    "    epsilon_std = 1\n",
    "    z_mean, z_log_var = args\n",
    "    epsilon = K.random_normal(shape=(K.shape(z_mean)[0], latent_dim), mean=0., stddev=epsilon_std)\n",
    "    return z_mean + K.exp(z_log_var / 2) * epsilon"
   ]
  },
  {
   "cell_type": "markdown",
   "metadata": {},
   "source": [
    "Now, in defining our model, we will add this sampling layer to the encoder."
   ]
  },
  {
   "cell_type": "code",
   "execution_count": null,
   "metadata": {},
   "outputs": [],
   "source": [
    "x = kl.Input(shape=input_shape)\n",
    "z_in = kl.Input(shape=(latent_dim,))\n",
    "\n",
    "def get_encoder_layers():\n",
    "    dense_1 = kl.Dense(intermediate_dim,activation='relu')\n",
    "    z_mean = kl.Dense(latent_dim)\n",
    "    z_log_var = kl.Dense(latent_dim)\n",
    "    latent_layer = kl.Lambda(sampling)   # Here's where we call the sampling layer\n",
    "    return [dense_1,z_mean,z_log_var,latent_layer]\n",
    "    \n",
    "# Generate the encoding layer\n",
    "def generate_encoder(x,encoder_layers):\n",
    "    dense_1,z_mean,z_log_var,latent_layer = encoder_layers\n",
    "    d1 = dense_1(x)\n",
    "    zm = z_mean(d1)\n",
    "    zv = z_log_var(d1)\n",
    "    z = latent_layer([zm,zv])\n",
    "    return z,zm,zv\n",
    "\n",
    "# These stay the same\n",
    "def get_decoder_layers():\n",
    "    dense_2 = kl.Dense(intermediate_dim,activation='relu')\n",
    "    reconstructed = kl.Dense(input_shape[0],activation='sigmoid')\n",
    "    return [dense_2,reconstructed]\n",
    "\n",
    "def generate_decoder(z,decoder_layers):\n",
    "    dense_2,reconstructed = decoder_layers\n",
    "    d2 = dense_2(z)\n",
    "    x_rec = reconstructed(d2)\n",
    "    return x_rec\n",
    "\n",
    "encoder_layers = get_encoder_layers()\n",
    "z,z_mean,z_log_var = generate_encoder(x,encoder_layers)\n",
    "\n",
    "decoder_layers = get_decoder_layers()\n",
    "x_reconstructed = generate_decoder(z,decoder_layers)\n",
    "x_decoded = generate_decoder(z_in,decoder_layers)"
   ]
  },
  {
   "cell_type": "markdown",
   "metadata": {},
   "source": [
    "We're almost there, but as it stands, all we're doing right now is injecting some randomness into our model: our latent variables have no motivation to be close to that unit-normal ball.  To provide that motivation, we'll add an extra term to our loss function that forces the distribution of latent variables to be close to a unit normal.  This extra loss function is called the Kullbach-Leibler divergence (or KL), and it effectively measures the difference between two probability distributions (if they're equal then the KL is zero).  For a unit normal distribution, the KL is:\n",
    "$$\n",
    "KL_{unit} = \\frac{1}{2} \\sum_{i=1}^m 1 + \\log{\\sigma_i^2} - \\mu_i^2 - \\sigma_i^2\n",
    "$$\n",
    "We'll add this to our normal loss function, weighted by a parameter $\\gamma$.  The choice of symbol is deliberate: this effectively regularizes our autoencoder, but in such a way that the latent variables become normally distributed.  "
   ]
  },
  {
   "cell_type": "code",
   "execution_count": null,
   "metadata": {},
   "outputs": [],
   "source": [
    "# Custom loss layer\n",
    "class CustomVariationalLayer(kl.Layer):\n",
    "    def __init__(self, **kwargs):\n",
    "        self.is_placeholder = True\n",
    "        super(CustomVariationalLayer, self).__init__(**kwargs)\n",
    "\n",
    "    def vae_loss(self, x, x_decoded_mean):\n",
    "        xent_loss = keras.metrics.binary_crossentropy(x, x_decoded_mean)\n",
    "        gamma = 0.001\n",
    "        kl_loss = - gamma * 0.5 * K.sum(1 + z_log_var - K.square(z_mean) - K.exp(z_log_var), axis=-1)\n",
    "        return K.mean(xent_loss + kl_loss)\n",
    "\n",
    "    def call(self, inputs):\n",
    "        x = inputs[0]\n",
    "        x_decoded = inputs[1]\n",
    "        loss = self.vae_loss(x, x_decoded)\n",
    "        self.add_loss(loss, inputs=inputs)\n",
    "        # We won't actually use the output.\n",
    "        return x_decoded\n",
    "    \n"
   ]
  },
  {
   "cell_type": "markdown",
   "metadata": {},
   "source": [
    "Now we can fully specify our model, compile, and fit"
   ]
  },
  {
   "cell_type": "code",
   "execution_count": null,
   "metadata": {},
   "outputs": [],
   "source": [
    "y = CustomVariationalLayer()([x, x_reconstructed,z_mean,z_log_var])\n",
    "\n",
    "encoder = km.Model(x,z)\n",
    "decoder = km.Model(z_in,x_decoded)\n",
    "vae = km.Model(x,y)\n",
    "\n",
    "vae.compile(optimizer=keras.optimizers.adam())\n",
    "vae.summary()\n",
    "\n",
    "batch_size = 256\n",
    "epochs=24\n",
    "history = vae.fit(x_train,\n",
    "          batch_size=batch_size,\n",
    "          epochs=epochs,\n",
    "          verbose=1,\n",
    "          validation_data=(x_test, None))"
   ]
  },
  {
   "cell_type": "markdown",
   "metadata": {},
   "source": [
    "Now, let's look at our latent variable values:"
   ]
  },
  {
   "cell_type": "code",
   "execution_count": null,
   "metadata": {},
   "outputs": [],
   "source": [
    "z_intermediate = encoder.predict(x_test)\n",
    "plt.scatter(z_intermediate[:,0],z_intermediate[:,1],c=y_test,alpha=0.8)\n",
    "plt.colorbar()\n",
    "plt.show()"
   ]
  },
  {
   "cell_type": "markdown",
   "metadata": {},
   "source": [
    "All of our latent variables fall more or less on a 2D unit normal.  Because of this, there is smooth variability between our data points, and this smoothness will extend to higher dimensions (which we'll see in a moment).  But let's see what sort of digits we get by smoothly varying our latent variables then decoding them."
   ]
  },
  {
   "cell_type": "code",
   "execution_count": null,
   "metadata": {},
   "outputs": [],
   "source": [
    "# Number of samples per dimension\n",
    "n = 21\n",
    "\n",
    "# Sample between z=-2,2\n",
    "z_0 = np.linspace(-2,2,n)\n",
    "z_1 = np.linspace(-2,2,n)\n",
    "\n",
    "img_size = 28\n",
    "\n",
    "figure = np.zeros((img_size * n, img_size * n, 1))\n",
    "z_rest = [np.random.randn() for i in range(14)]\n",
    "\n",
    "for i,z0 in enumerate(z_0):\n",
    "    for j,z1 in enumerate(z_1):\n",
    "        z_sample = np.array([[z0,z1]])\n",
    "        x_decoded = decoder.predict(z_sample)\n",
    "        img = x_decoded[0].reshape(img_size, img_size,1)\n",
    "        figure[i * img_size: (i + 1) * img_size,j * img_size: (j + 1) * img_size,:] = img\n",
    "\n",
    "plt.figure(figsize=(10, 10))\n",
    "plt.imshow(figure.squeeze(),cmap=plt.cm.gray)\n",
    "plt.show()\n"
   ]
  },
  {
   "cell_type": "markdown",
   "metadata": {},
   "source": [
    "We're pretty limited of course because of our choice of only two latent variables.  What about three?"
   ]
  },
  {
   "cell_type": "code",
   "execution_count": null,
   "metadata": {},
   "outputs": [],
   "source": [
    "import keras\n",
    "import keras.models as km\n",
    "import keras.layers as kl\n",
    "import keras.losses as kloss\n",
    "import keras.metrics as kmet\n",
    "from keras import backend as K\n",
    "from keras.datasets import mnist\n",
    "import numpy as np\n",
    "\n",
    "input_shape = (28**2,)\n",
    "latent_dim = 3\n",
    "intermediate_dim = 512\n",
    "\n",
    "(x_train, y_train), (x_test, y_test) = mnist.load_data()\n",
    "x_train = x_train/255\n",
    "x_test = x_test/255\n",
    "x_train = x_train.reshape((len(x_train),*input_shape))\n",
    "x_test = x_test.reshape((len(x_test),*input_shape))\n",
    "\n",
    "x = kl.Input(shape=input_shape)\n",
    "z_in = kl.Input(shape=(latent_dim,))\n",
    "\n",
    "# sampling layer from latent distribution\n",
    "def sampling(args):\n",
    "    epsilon_std = 1\n",
    "    z_mean, z_log_var = args\n",
    "    epsilon = K.random_normal(shape=(K.shape(z_mean)[0], latent_dim), mean=0., stddev=epsilon_std)\n",
    "    return z_mean + K.exp(z_log_var / 2) * epsilon\n",
    "\n",
    "def get_encoder_layers():\n",
    "    dense_1 = kl.Dense(intermediate_dim,activation='relu')\n",
    "    z_mean = kl.Dense(latent_dim)\n",
    "    z_log_var = kl.Dense(latent_dim)\n",
    "    latent_layer = kl.Lambda(sampling)\n",
    "    return [dense_1,z_mean,z_log_var,latent_layer]\n",
    "    \n",
    "\n",
    "def generate_encoder(x,encoder_layers):\n",
    "    dense_1,z_mean,z_log_var,latent_layer = encoder_layers\n",
    "    d1 = dense_1(x)\n",
    "    zm = z_mean(d1)\n",
    "    zv = z_log_var(d1)\n",
    "    z = latent_layer([zm,zv])\n",
    "    return z,zm,zv\n",
    "\n",
    "def get_decoder_layers():\n",
    "    dense_2 = kl.Dense(intermediate_dim,activation='relu')\n",
    "    reconstructed = kl.Dense(input_shape[0],activation='sigmoid')\n",
    "    return [dense_2,reconstructed]\n",
    "\n",
    "def generate_decoder(z,decoder_layers):\n",
    "    dense_2,reconstructed = decoder_layers\n",
    "    d2 = dense_2(z)\n",
    "    x_rec = reconstructed(d2)\n",
    "    return x_rec\n",
    "\n",
    "encoder_layers = get_encoder_layers()\n",
    "z,z_mean,z_log_var = generate_encoder(x,encoder_layers)\n",
    "\n",
    "decoder_layers = get_decoder_layers()\n",
    "x_reconstructed = generate_decoder(z,decoder_layers)\n",
    "x_decoded = generate_decoder(z_in,decoder_layers)\n",
    "\n",
    "# Custom loss layer\n",
    "class CustomVariationalLayer(kl.Layer):\n",
    "    def __init__(self, **kwargs):\n",
    "        self.is_placeholder = True\n",
    "        super(CustomVariationalLayer, self).__init__(**kwargs)\n",
    "\n",
    "    def vae_loss(self, x, x_decoded_mean):\n",
    "        xent_loss = keras.metrics.binary_crossentropy(x, x_decoded_mean)\n",
    "        beta = 0.001\n",
    "        kl_loss = - beta * 0.5 * K.sum(1 + z_log_var - K.square(z_mean) - K.exp(z_log_var), axis=-1)\n",
    "        return K.mean(xent_loss + kl_loss)\n",
    "\n",
    "    def call(self, inputs):\n",
    "        x = inputs[0]\n",
    "        x_decoded = inputs[1]\n",
    "        loss = self.vae_loss(x, x_decoded)\n",
    "        self.add_loss(loss, inputs=inputs)\n",
    "        # We won't actually use the output.\n",
    "        return x_decoded\n",
    "    \n",
    "y = CustomVariationalLayer()([x, x_reconstructed,z_mean,z_log_var])\n",
    "\n",
    "encoder = km.Model(x,z)\n",
    "decoder = km.Model(z_in,x_decoded)\n",
    "vae = km.Model(x,y)\n",
    "\n",
    "vae.compile(optimizer=keras.optimizers.adam())\n",
    "vae.summary()\n",
    "\n",
    "batch_size = 256\n",
    "epochs=24\n",
    "history = vae.fit(x_train,\n",
    "          batch_size=batch_size,\n",
    "          epochs=epochs,\n",
    "          verbose=1,\n",
    "          validation_data=(x_test, None))\n"
   ]
  },
  {
   "cell_type": "markdown",
   "metadata": {},
   "source": [
    "We can plot the resulting points in 3D.  "
   ]
  },
  {
   "cell_type": "code",
   "execution_count": null,
   "metadata": {},
   "outputs": [],
   "source": [
    "from mpl_toolkits.mplot3d import Axes3D\n",
    "%matplotlib notebook\n",
    "z_intermediate = encoder.predict(x_test)\n",
    "fig = plt.figure()\n",
    "fig.set_size_inches(10,10)\n",
    "ax = fig.add_subplot(111, projection='3d')\n",
    "p = ax.scatter(z_intermediate[:,0],z_intermediate[:,1],z_intermediate[:,2],c=y_test,alpha=0.8)\n",
    "fig.colorbar(p)\n",
    "plt.show()"
   ]
  },
  {
   "cell_type": "markdown",
   "metadata": {},
   "source": [
    "There's better separation in 3D, which we can see when we perform reconstructions of our test images"
   ]
  },
  {
   "cell_type": "code",
   "execution_count": null,
   "metadata": {},
   "outputs": [],
   "source": [
    "x_pred = vae.predict(x_test)\n",
    "\n",
    "fig,axs = plt.subplots(nrows=3,ncols=2)\n",
    "for j in range(3):\n",
    "    ax = axs[j]\n",
    "    i = np.random.randint(100)\n",
    "\n",
    "    ax[0].imshow(x_test[i].reshape((28,28)))\n",
    "    ax[1].imshow(x_pred[i].reshape((28,28)))\n",
    "plt.show()"
   ]
  },
  {
   "cell_type": "markdown",
   "metadata": {},
   "source": [
    "Let's make the same array of digits, smoothly varying the first two latent dimensions, while holding the third one fixed."
   ]
  },
  {
   "cell_type": "code",
   "execution_count": null,
   "metadata": {},
   "outputs": [],
   "source": [
    "\n",
    "n = 21\n",
    "\n",
    "z_0 = np.linspace(-2,2,n)\n",
    "z_1 = np.linspace(-2,2,n)\n",
    "\n",
    "img_size = 28\n",
    "\n",
    "figure = np.zeros((img_size * n, img_size * n, 1))\n",
    "z_rest = [np.random.randn() for i in range(14)]\n",
    "\n",
    "for i,z0 in enumerate(z_0):\n",
    "    for j,z1 in enumerate(z_1):\n",
    "        z_sample = np.array([[z0,z1,0.0]])\n",
    "        x_decoded = decoder.predict(z_sample)\n",
    "        img = x_decoded[0].reshape(img_size, img_size,1)\n",
    "        figure[i * img_size: (i + 1) * img_size,j * img_size: (j + 1) * img_size,:] = img\n",
    "\n",
    "plt.figure(figsize=(10, 10))\n",
    "plt.imshow(figure.squeeze(),cmap=plt.cm.gray)\n",
    "plt.show()"
   ]
  },
  {
   "cell_type": "code",
   "execution_count": null,
   "metadata": {},
   "outputs": [],
   "source": []
  },
  {
   "cell_type": "code",
   "execution_count": null,
   "metadata": {},
   "outputs": [],
   "source": [
    "import keras\n",
    "import keras.models as km\n",
    "import keras.layers as kl\n",
    "import keras.losses as kloss\n",
    "import keras.metrics as kmet\n",
    "from keras import backend as K\n",
    "from keras.datasets import mnist\n",
    "import numpy as np\n",
    "\n",
    "input_shape = (28**2,)\n",
    "latent_dim = 12\n",
    "intermediate_dim = 512\n",
    "\n",
    "(x_train, y_train), (x_test, y_test) = mnist.load_data()\n",
    "x_train = x_train/255\n",
    "x_test = x_test/255\n",
    "x_train = x_train.reshape((len(x_train),*input_shape))\n",
    "x_test = x_test.reshape((len(x_test),*input_shape))\n",
    "\n",
    "x = kl.Input(shape=input_shape)\n",
    "z_in = kl.Input(shape=(latent_dim,))\n",
    "\n",
    "# sampling layer from latent distribution\n",
    "def sampling(args):\n",
    "    epsilon_std = 1\n",
    "    z_mean, z_log_var = args\n",
    "    epsilon = K.random_normal(shape=(K.shape(z_mean)[0], latent_dim), mean=0., stddev=epsilon_std)\n",
    "    return z_mean + K.exp(z_log_var / 2) * epsilon\n",
    "\n",
    "def get_encoder_layers():\n",
    "    dense_1 = kl.Dense(intermediate_dim,activation='relu')\n",
    "    z_mean = kl.Dense(latent_dim)\n",
    "    z_log_var = kl.Dense(latent_dim)\n",
    "    latent_layer = kl.Lambda(sampling)\n",
    "    return [dense_1,z_mean,z_log_var,latent_layer]\n",
    "    \n",
    "\n",
    "def generate_encoder(x,encoder_layers):\n",
    "    dense_1,z_mean,z_log_var,latent_layer = encoder_layers\n",
    "    d1 = dense_1(x)\n",
    "    zm = z_mean(d1)\n",
    "    zv = z_log_var(d1)\n",
    "    z = latent_layer([zm,zv])\n",
    "    return z,zm,zv\n",
    "\n",
    "def get_decoder_layers():\n",
    "    dense_2 = kl.Dense(intermediate_dim,activation='relu')\n",
    "    reconstructed = kl.Dense(input_shape[0],activation='sigmoid')\n",
    "    return [dense_2,reconstructed]\n",
    "\n",
    "def generate_decoder(z,decoder_layers):\n",
    "    dense_2,reconstructed = decoder_layers\n",
    "    d2 = dense_2(z)\n",
    "    x_rec = reconstructed(d2)\n",
    "    return x_rec\n",
    "\n",
    "encoder_layers = get_encoder_layers()\n",
    "z,z_mean,z_log_var = generate_encoder(x,encoder_layers)\n",
    "\n",
    "decoder_layers = get_decoder_layers()\n",
    "x_reconstructed = generate_decoder(z,decoder_layers)\n",
    "x_decoded = generate_decoder(z_in,decoder_layers)\n",
    "\n",
    "# Custom loss layer\n",
    "class CustomVariationalLayer(kl.Layer):\n",
    "    def __init__(self, **kwargs):\n",
    "        self.is_placeholder = True\n",
    "        super(CustomVariationalLayer, self).__init__(**kwargs)\n",
    "\n",
    "    def vae_loss(self, x, x_decoded_mean):\n",
    "        xent_loss = keras.metrics.binary_crossentropy(x, x_decoded_mean)\n",
    "        beta = 0.001\n",
    "        kl_loss = - beta * 0.5 * K.sum(1 + z_log_var - K.square(z_mean) - K.exp(z_log_var), axis=-1)\n",
    "        return K.mean(xent_loss + kl_loss)\n",
    "\n",
    "    def call(self, inputs):\n",
    "        x = inputs[0]\n",
    "        x_decoded = inputs[1]\n",
    "        loss = self.vae_loss(x, x_decoded)\n",
    "        self.add_loss(loss, inputs=inputs)\n",
    "        # We won't actually use the output.\n",
    "        return x_decoded\n",
    "    \n",
    "y = CustomVariationalLayer()([x, x_reconstructed,z_mean,z_log_var])\n",
    "\n",
    "encoder = km.Model(x,z)\n",
    "decoder = km.Model(z_in,x_decoded)\n",
    "vae = km.Model(x,y)\n",
    "\n",
    "vae.compile(optimizer=keras.optimizers.adam())\n",
    "vae.summary()\n",
    "\n",
    "batch_size = 256\n",
    "epochs=24\n",
    "history = vae.fit(x_train,\n",
    "          batch_size=batch_size,\n",
    "          epochs=epochs,\n",
    "          verbose=1,\n",
    "          validation_data=(x_test, None))\n"
   ]
  },
  {
   "cell_type": "code",
   "execution_count": null,
   "metadata": {},
   "outputs": [],
   "source": [
    "x_pred = vae.predict(x_test)\n",
    "\n",
    "fig,axs = plt.subplots(nrows=3,ncols=2)\n",
    "for j in range(3):\n",
    "    ax = axs[j]\n",
    "    i = np.random.randint(100)\n",
    "\n",
    "    ax[0].imshow(x_test[i].reshape((28,28)))\n",
    "    ax[1].imshow(x_pred[i].reshape((28,28)))\n",
    "plt.show()"
   ]
  },
  {
   "cell_type": "code",
   "execution_count": null,
   "metadata": {},
   "outputs": [],
   "source": [
    "n = 21\n",
    "\n",
    "z_0 = np.linspace(-2,2,n)\n",
    "z_1 = np.linspace(-2,2,n)\n",
    "\n",
    "img_size = 28\n",
    "\n",
    "figure = np.zeros((img_size * n, img_size * n, 1))\n",
    "z_rest = [np.random.randn() for i in range(14)]\n",
    "\n",
    "for i,z0 in enumerate(z_0):\n",
    "    for j,z1 in enumerate(z_1):\n",
    "        z_sample = np.array([[z0,z1]+[np.random.randn() for q in range(10)]])\n",
    "        x_decoded = decoder.predict(z_sample)\n",
    "        img = x_decoded[0].reshape(img_size, img_size,1)\n",
    "        figure[i * img_size: (i + 1) * img_size,j * img_size: (j + 1) * img_size,:] = img\n",
    "\n",
    "plt.figure(figsize=(10, 10))\n",
    "plt.imshow(figure.squeeze(),cmap=plt.cm.gray)\n",
    "plt.show()"
   ]
  },
  {
   "cell_type": "markdown",
   "metadata": {},
   "source": [
    "Finally, these things don't need to apply only to digits.  One of the cool applications of variational autoencoders is computer-generated images.  For this, we'll utilize the CIFAR-10 dataset, which has elements that sort of look like: "
   ]
  },
  {
   "cell_type": "code",
   "execution_count": null,
   "metadata": {},
   "outputs": [],
   "source": [
    "import keras\n",
    "import keras.models as km\n",
    "import keras.layers as kl\n",
    "import keras.losses as kloss\n",
    "import keras.metrics as kmet\n",
    "from keras import backend as K\n",
    "import numpy as np\n",
    "\n",
    "import pickle\n",
    "\n",
    "from keras.datasets import cifar10,mnist\n",
    "\n",
    "\n",
    "input_shape = ((32,32,3))\n",
    "\n",
    "(x_train, y_train), (x_test, y_test) = cifar10.load_data()\n",
    "x_train = x_train/255\n",
    "x_test = x_test/255\n",
    "x_train = x_train.reshape((len(x_train),*input_shape))\n",
    "x_test = x_test.reshape((len(x_test),*input_shape))\n",
    "\n",
    "fig,axs = plt.subplots(nrows=1,ncols=5)\n",
    "for ax in axs:\n",
    "    ax.imshow((x_test[np.random.randint(100)]*255).astype(int))\n",
    "plt.show()"
   ]
  },
  {
   "cell_type": "markdown",
   "metadata": {},
   "source": [
    "We can build a similar autoencoder, but this time we'll encode and decode using a convolutional neural network."
   ]
  },
  {
   "cell_type": "code",
   "execution_count": null,
   "metadata": {},
   "outputs": [],
   "source": [
    "def sampling(args):\n",
    "    \"\"\"Reparameterization trick by sampling fr an isotropic unit Gaussian.\n",
    "    # Arguments:\n",
    "        args (tensor): mean and log of variance of Q(z|X)\n",
    "    # Returns:\n",
    "        z (tensor): sampled latent vector\n",
    "    \"\"\"\n",
    "\n",
    "    z_mean, z_log_var = args\n",
    "    batch = K.shape(z_mean)[0]\n",
    "    dim = K.int_shape(z_mean)[1]\n",
    "    # by default, random_normal has mean=0 and std=1.0\n",
    "    epsilon = K.random_normal(shape=(batch, dim))\n",
    "    return z_mean + K.exp(0.5 * z_log_var) * epsilon\n",
    "\n",
    "#input_shape = ((28,28,1))\n",
    "img_rows,img_cols,bands = input_shape\n",
    "latent_dim = 16\n",
    "filters = 32\n",
    "intermediate_dim = 128\n",
    "num_conv = 3  \n",
    "\n",
    "x = kl.Input(shape=input_shape)\n",
    "\n",
    "def get_encoder_layers():\n",
    "    conv_1 = kl.Conv2D(3,kernel_size=(3,3),padding='same',activation='relu')\n",
    "    conv_2 = kl.Conv2D(filters,kernel_size=(3,3),padding='same',activation='relu',strides=(2,2))\n",
    "    conv_3 = kl.Conv2D(filters,kernel_size=num_conv,padding='same',activation='relu',strides=1)\n",
    "    conv_4 = kl.Conv2D(filters,kernel_size=num_conv,activation='relu',strides=1)\n",
    "\n",
    "    flat = kl.Flatten()\n",
    "    hidden = kl.Dense(intermediate_dim,activation='relu')\n",
    "\n",
    "    z_mean = kl.Dense(latent_dim,name='z_mean')\n",
    "    z_log_var = kl.Dense(latent_dim,name='z_log_var')\n",
    "\n",
    "    z = kl.Lambda(sampling,output_shape=(latent_dim,),name='z')\n",
    "    \n",
    "    return [conv_1,conv_2,conv_3,conv_4,flat,hidden,z_mean,z_log_var,z]\n",
    "\n",
    "def generate_encoder(x,encoder_layers):\n",
    "    conv_1,conv_2,conv_3,conv_4,flat,hidden,z_mean,z_log_var,z = encoder_layers\n",
    "    c1 = conv_1(x)\n",
    "    c2 = conv_2(c1)\n",
    "    c3 = conv_3(c2)\n",
    "    c4 = conv_4(c3)\n",
    "    f = flat(c4)\n",
    "    h = hidden(f)\n",
    "    zm = z_mean(h)\n",
    "    zv = z_log_var(h)\n",
    "    zz = z([zm,zv])\n",
    "    return zz,zm,zv\n",
    "    \n",
    "l = get_encoder_layers()\n",
    "z,z_mean,z_log_var = generate_encoder(x,l)\n",
    "\n",
    "# Decoder architecture\n",
    "def get_decoder_layers():\n",
    "    decoder_hid = kl.Dense(intermediate_dim,activation='relu')\n",
    "    decoder_upsample = kl.Dense(filters*img_rows//2*img_cols//2,name='up_dense_1',activation='relu')\n",
    "\n",
    "    decoder_reshape = kl.Reshape((img_rows//2,img_cols//2,filters),name='reshape_1')\n",
    "    deconv_1 = kl.Conv2DTranspose(filters,kernel_size=num_conv,padding='same',activation='relu')\n",
    "    deconv_2 = kl.Conv2DTranspose(filters,kernel_size=num_conv,padding='same',activation='relu')\n",
    "    deconv_3 = kl.Conv2DTranspose(filters,kernel_size=(3,3),strides=(2,2),padding='valid',activation='relu')\n",
    "    x_decoded = kl.Conv2D(input_shape[-1],kernel_size=2,padding='valid',activation='sigmoid')\n",
    "    return [decoder_hid,decoder_upsample,decoder_reshape,deconv_1,deconv_2,deconv_3,x_decoded]\n",
    "\n",
    "def generate_decoder(z,decoder_layers):\n",
    "    decoder_hid,decoder_upsample,decoder_reshape,deconv_1,deconv_2,deconv_3,x_decoded = decoder_layers\n",
    "    dh = decoder_hid(z)\n",
    "    du = decoder_upsample(dh)\n",
    "    rs = decoder_reshape(du)\n",
    "    d1 = deconv_1(rs)\n",
    "    d2 = deconv_2(d1)\n",
    "    d3 = deconv_3(d2)\n",
    "    xd = x_decoded(d3)\n",
    "    return xd\n",
    "\n",
    "ld = get_decoder_layers()\n",
    "x_decoded = generate_decoder(z,ld)\n",
    "\n",
    "z_in = kl.Input(shape=(latent_dim,))\n",
    "x_gen = generate_decoder(z_in,ld)\n",
    "encoder = km.Model(x,z)\n",
    "decoder = km.Model(z_in,x_gen)\n",
    "\n",
    "# Custom loss layer\n",
    "class CustomVariationalLayer(kl.Layer):\n",
    "    def __init__(self, **kwargs):\n",
    "        self.is_placeholder = True\n",
    "        super(CustomVariationalLayer, self).__init__(**kwargs)\n",
    "\n",
    "    def vae_loss(self, x, x_decoded,z_mean,z_log_var):\n",
    "        beta = 1e-3\n",
    "        x = K.flatten(x)\n",
    "        x_decoded = K.flatten(x_decoded)\n",
    "        xent_loss = kmet.binary_crossentropy(x, x_decoded)\n",
    "        kl_loss = - 0.5 * beta * K.mean(1 + z_log_var - K.square(z_mean) - K.exp(z_log_var), axis=-1)\n",
    "        return K.mean(xent_loss + kl_loss)\n",
    "\n",
    "    def call(self, inputs):\n",
    "        x = inputs[0]\n",
    "        x_decoded = inputs[1]\n",
    "        z_mean = inputs[2]\n",
    "        z_log_var = inputs[3]\n",
    "\n",
    "        loss = self.vae_loss(x, x_decoded,z_mean,z_log_var)\n",
    "        self.add_loss(loss, inputs=inputs)\n",
    "        return x_decoded\n",
    "\n",
    "y = CustomVariationalLayer()([x, x_decoded,z_mean,z_log_var])\n",
    "\n",
    "\n",
    "\n",
    "# entire model\n",
    "vae = km.Model(x, y)\n",
    "#vae.compile(optimizer='adam', loss=None)\n",
    "#vae.summary()\n",
    "\n",
    "batch_size = 256\n",
    "epochs = 300\n",
    "# train the autoencoder\n",
    "#history = vae.fit(x_train,\n",
    "#        epochs=epochs,\n",
    "#        batch_size=batch_size,\n",
    "#        validation_data=(x_test, None))    \n",
    "\n"
   ]
  },
  {
   "cell_type": "markdown",
   "metadata": {},
   "source": [
    "This one takes too long to train, so we'll load the weights I precomputed overnight."
   ]
  },
  {
   "cell_type": "code",
   "execution_count": null,
   "metadata": {},
   "outputs": [],
   "source": [
    "encoder = km.load_model('encoder.h5')\n",
    "decoder = km.load_model('decoder.h5')"
   ]
  },
  {
   "cell_type": "markdown",
   "metadata": {},
   "source": [
    "Now we can sample from the latent space (a 16-vector for this model), and generate strange new computer-generated images (the dreams of robots).  "
   ]
  },
  {
   "cell_type": "code",
   "execution_count": null,
   "metadata": {},
   "outputs": [],
   "source": [
    "import matplotlib.pyplot as plt\n",
    "n = 5\n",
    "z_0 = np.linspace(-3,3,n)\n",
    "z_1 = np.linspace(-3,3,n)\n",
    "\n",
    "img_size = 32\n",
    "\n",
    "figure = np.zeros((img_size * n, img_size * n, 3))\n",
    "z_rest = [np.random.randn() for i in range(14)]\n",
    "\n",
    "for i,z0 in enumerate(z_0):\n",
    "    for j,z1 in enumerate(z_1):\n",
    "        z_sample = np.array([[z0,z1]+z_rest])\n",
    "        x_decoded = decoder.predict(z_sample)\n",
    "        img = x_decoded[0].reshape(img_size, img_size,3)\n",
    "        figure[i * img_size: (i + 1) * img_size,j * img_size: (j + 1) * img_size,:] = img\n",
    "\n",
    "figure*=255\n",
    "figure = figure.astype(int)\n",
    "\n",
    "plt.figure(figsize=(8, 8))\n",
    "plt.imshow(figure.squeeze())\n",
    "plt.show()"
   ]
  },
  {
   "cell_type": "code",
   "execution_count": null,
   "metadata": {},
   "outputs": [],
   "source": []
  }
 ],
 "metadata": {
  "kernelspec": {
   "display_name": "Python 3",
   "language": "python",
   "name": "python3"
  },
  "language_info": {
   "codemirror_mode": {
    "name": "ipython",
    "version": 3
   },
   "file_extension": ".py",
   "mimetype": "text/x-python",
   "name": "python",
   "nbconvert_exporter": "python",
   "pygments_lexer": "ipython3",
   "version": "3.6.5"
  }
 },
 "nbformat": 4,
 "nbformat_minor": 2
}
